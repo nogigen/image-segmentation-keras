{
 "cells": [
  {
   "cell_type": "code",
   "execution_count": 1,
   "metadata": {},
   "outputs": [],
   "source": [
    "import os\n",
    "from PIL import Image\n",
    "import cv2 "
   ]
  },
  {
   "cell_type": "code",
   "execution_count": 2,
   "metadata": {},
   "outputs": [
    {
     "name": "stdout",
     "output_type": "stream",
     "text": [
      "C:\\Users\\Asus\\Desktop\\rapsodo\\q2\n",
      "['.ipynb_checkpoints', 'assignmet_baseball_seam_w_tempates', 'dataset1.zip', 'keras-preprocessing.ipynb', 'predictions (1).zip', 'seam_model.h5', 'seam_model_weights.h5']\n"
     ]
    }
   ],
   "source": [
    "root_path = os.path.abspath(os.getcwd())\n",
    "print(root_path)\n",
    "print(os.listdir())"
   ]
  },
  {
   "cell_type": "code",
   "execution_count": 3,
   "metadata": {},
   "outputs": [],
   "source": [
    "os.chdir(\"assignmet_baseball_seam_w_tempates\")"
   ]
  },
  {
   "cell_type": "code",
   "execution_count": 4,
   "metadata": {},
   "outputs": [
    {
     "name": "stdout",
     "output_type": "stream",
     "text": [
      "606\n"
     ]
    }
   ],
   "source": [
    "print(len(os.listdir()))"
   ]
  },
  {
   "cell_type": "code",
   "execution_count": 5,
   "metadata": {},
   "outputs": [],
   "source": [
    "noOfData = len(os.listdir()) / 2\n",
    "noOfTrain = int(noOfData * 0.8)\n",
    "noOfTest = noOfData - noOfTrain"
   ]
  },
  {
   "cell_type": "code",
   "execution_count": 6,
   "metadata": {},
   "outputs": [],
   "source": [
    "os.chdir(\"../\")\n",
    "if \"data\" not in os.listdir():\n",
    "    os.mkdir(\"dataset1\")\n",
    "    os.chdir(\"dataset1\")\n",
    "    \n",
    "    os.mkdir(\"images_prepped_test\")\n",
    "    os.mkdir(\"images_prepped_train\")\n",
    "    os.mkdir(\"annotations_prepped_test\")\n",
    "    os.mkdir(\"annotations_prepped_train\")\n",
    "\n",
    "    os.chdir(\"../\")"
   ]
  },
  {
   "cell_type": "code",
   "execution_count": 7,
   "metadata": {},
   "outputs": [],
   "source": [
    "os.chdir(\"assignmet_baseball_seam_w_tempates\")"
   ]
  },
  {
   "cell_type": "code",
   "execution_count": 8,
   "metadata": {},
   "outputs": [],
   "source": [
    "count = 0\n",
    "toTest = False\n",
    "\n",
    "for file in os.listdir():\n",
    "    extensions = file.split(\".\")\n",
    "    filename = extensions[0]\n",
    "    extension = extensions[1]\n",
    "    \n",
    "    if extension == \"jpg\":        \n",
    "        \n",
    "        if not toTest:\n",
    "            if f\"{filename}.bmp\" in os.listdir():\n",
    "                img = cv2.imread(f\"{filename}.bmp\")\n",
    "                newFile = root_path + f\"\\\\dataset1\\\\annotations_prepped_train\\\\{count + 1}.png\"\n",
    "                ret,thresh1 = cv2.threshold(img,1,1,cv2.THRESH_BINARY)\n",
    "                cv2.imwrite(newFile, thresh1)\n",
    "\n",
    "                img = cv2.imread(f\"{filename}.jpg\")\n",
    "                newFile = root_path + f\"\\\\dataset1\\\\images_prepped_train\\\\{count + 1}.png\"\n",
    "                cv2.imwrite(newFile, img)\n",
    "                \n",
    "                \n",
    "                count += 1      \n",
    "\n",
    "            if count == noOfTrain:\n",
    "                count = 0\n",
    "                toTest = True\n",
    "                \n",
    "        else:\n",
    "                if f\"{filename}.bmp\" in os.listdir():\n",
    "                    img = cv2.imread(f\"{filename}.bmp\")\n",
    "                    newFile = root_path + f\"\\\\dataset1\\\\annotations_prepped_test\\\\{count + 1}.png\"\n",
    "                    ret,thresh1 = cv2.threshold(img,1,1,cv2.THRESH_BINARY)\n",
    "                    cv2.imwrite(newFile, thresh1)\n",
    "\n",
    "                    img = cv2.imread(f\"{filename}.jpg\")\n",
    "                    newFile = root_path + f\"\\\\dataset1\\\\images_prepped_test\\\\{count + 1}.png\"\n",
    "                    cv2.imwrite(newFile, img)\n",
    "                    \n",
    "                    count += 1      \n",
    "\n",
    "\n",
    "            \n"
   ]
  }
 ],
 "metadata": {
  "kernelspec": {
   "display_name": "Python 3",
   "language": "python",
   "name": "python3"
  },
  "language_info": {
   "codemirror_mode": {
    "name": "ipython",
    "version": 3
   },
   "file_extension": ".py",
   "mimetype": "text/x-python",
   "name": "python",
   "nbconvert_exporter": "python",
   "pygments_lexer": "ipython3",
   "version": "3.6.5"
  }
 },
 "nbformat": 4,
 "nbformat_minor": 2
}
